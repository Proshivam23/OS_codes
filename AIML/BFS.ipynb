{
 "cells": [
  {
   "cell_type": "code",
   "execution_count": 1,
   "metadata": {},
   "outputs": [
    {
     "name": "stdout",
     "output_type": "stream",
     "text": [
      "['A', 'B', 'E', 'H', 'K']\n"
     ]
    }
   ],
   "source": [
    "from queue import Queue\n",
    "\n",
    "def bfs(adj, src, des):\n",
    "    q = Queue()\n",
    "    vis = set()\n",
    "    q.put(src)\n",
    "    vis.add(src)\n",
    "    par = {}\n",
    "\n",
    "    while not q.empty():\n",
    "        node = q.get()\n",
    "\n",
    "        if node == des:\n",
    "            break\n",
    "\n",
    "        # Iterate on adj Nodes\n",
    "        for adjNode in adj[node]:\n",
    "            if adjNode not in vis:\n",
    "                q.put(adjNode)\n",
    "                vis.add(adjNode)\n",
    "                par[adjNode] = node\n",
    "\n",
    "    path = []\n",
    "    start = des\n",
    "    while start != src:\n",
    "        path.insert(0, start)\n",
    "        start = par[start]\n",
    "    path.insert(0, src)\n",
    "    return path\n",
    "\n",
    "adj = {\n",
    "    \"A\": [\"B\", \"C\", \"D\"],\n",
    "    \"B\": [\"A\", \"E\", \"F\", \"C\"],\n",
    "    \"C\": [\"A\", \"B\", \"F\", \"G\"],\n",
    "    \"D\": [\"A\", \"G\"],\n",
    "    \"E\": [\"B\", \"H\"],\n",
    "    \"F\": [\"B\", \"C\", \"G\", \"H\", \"I\"],\n",
    "    \"G\": [\"C\", \"F\", \"D\", \"I\"],\n",
    "    \"H\": [\"E\", \"F\", \"K\", \"J\"],\n",
    "    \"I\": [\"F\", \"G\", \"H\", \"K\"],\n",
    "    \"J\": [\"H\"],\n",
    "    \"K\": [\"H\", \"I\"]\n",
    "}\n",
    "\n",
    "src = \"A\"\n",
    "des = \"K\"\n",
    "path = bfs(adj, src, des)\n",
    "print(path)"
   ]
  }
 ],
 "metadata": {
  "kernelspec": {
   "display_name": "Python 3",
   "language": "python",
   "name": "python3"
  },
  "language_info": {
   "codemirror_mode": {
    "name": "ipython",
    "version": 3
   },
   "file_extension": ".py",
   "mimetype": "text/x-python",
   "name": "python",
   "nbconvert_exporter": "python",
   "pygments_lexer": "ipython3",
   "version": "3.12.0"
  }
 },
 "nbformat": 4,
 "nbformat_minor": 2
}
