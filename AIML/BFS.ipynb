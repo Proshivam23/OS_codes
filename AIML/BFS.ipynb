{
 "cells": [
  {
   "cell_type": "code",
   "execution_count": 1,
   "metadata": {},
   "outputs": [
    {
     "name": "stdout",
     "output_type": "stream",
     "text": [
      "['A', 'B', 'E', 'H', 'K']\n"
     ]
    }
   ],
   "source": [
    "from queue import Queue\n",
    "\n",
    "def bfs(adj, src, des):\n",
    "    q = Queue()\n",
    "    vis = set()\n",
    "    q.put(src)\n",
    "    vis.add(src)\n",
    "    par = {}\n",
    "\n",
    "    while not q.empty():\n",
    "        node = q.get()\n",
    "\n",
    "        if node == des:\n",
    "            break\n",
    "\n",
    "        # Iterate on adj Nodes\n",
    "        for adjNode in adj[node]:\n",
    "            if adjNode not in vis:\n",
    "                q.put(adjNode)\n",
    "                vis.add(adjNode)\n",
    "                par[adjNode] = node\n",
    "\n",
    "    path = []\n",
    "    start = des\n",
    "    while start != src:\n",
    "        path.insert(0, start)\n",
    "        start = par[start]\n",
    "    path.insert(0, src)\n",
    "    return path\n",
    "\n",
    "adj = {\n",
    "    \"A\": [\"B\", \"C\", \"D\"],\n",
    "    \"B\": [\"A\", \"E\", \"F\", \"C\"],\n",
    "    \"C\": [\"A\", \"B\", \"F\", \"G\"],\n",
    "    \"D\": [\"A\", \"G\"],\n",
    "    \"E\": [\"B\", \"H\"],\n",
    "    \"F\": [\"B\", \"C\", \"G\", \"H\", \"I\"],\n",
    "    \"G\": [\"C\", \"F\", \"D\", \"I\"],\n",
    "    \"H\": [\"E\", \"F\", \"K\", \"J\"],\n",
    "    \"I\": [\"F\", \"G\", \"H\", \"K\"],\n",
    "    \"J\": [\"H\"],\n",
    "    \"K\": [\"H\", \"I\"]\n",
    "}\n",
    "\n",
    "src = \"A\"\n",
    "des = \"K\"\n",
    "path = bfs(adj, src, des)\n",
    "print(path)"
   ]
  },
  {
   "cell_type": "markdown",
   "metadata": {},
   "source": [
    "This Python script implements the Breadth-First Search (BFS) algorithm to find the shortest path between two nodes in a graph. BFS is a graph traversal algorithm that explores all the vertices of a graph in breadth-first order, i.e., it explores all the vertices at the present depth before moving on to vertices at the next depth level.\n",
    "\n",
    "The script starts by importing the `Queue` class from the `queue` module. It then defines a function `bfs` that takes an adjacency list `adj`, a source node `src`, and a destination node `des` as arguments.\n",
    "\n",
    "Inside the `bfs` function, a queue `q` and a set `vis` (for visited nodes) are initialized. The source node is added to the queue and the visited set. A dictionary `par` is also initialized to keep track of each node's parent node, which will be used later to reconstruct the path from the source to the destination.\n",
    "\n",
    "The function then enters a while loop that continues as long as the queue is not empty. In each iteration, it dequeues a node. If this node is the destination, it breaks the loop. Otherwise, it iterates over the node's adjacent nodes. If an adjacent node has not been visited, it is enqueued, marked as visited, and its parent is set as the current node.\n",
    "\n",
    "After the while loop, the function constructs the path from the source to the destination by starting at the destination and following the parent nodes until it reaches the source. The path is then returned.\n",
    "\n",
    "The script then defines an adjacency list for a graph, where each key-value pair represents a node and its adjacent nodes, respectively. It sets \"A\" as the source node and \"K\" as the destination node, and calls the `bfs` function with these values. The returned path is printed to the console."
   ]
  }
 ],
 "metadata": {
  "kernelspec": {
   "display_name": "Python 3",
   "language": "python",
   "name": "python3"
  },
  "language_info": {
   "codemirror_mode": {
    "name": "ipython",
    "version": 3
   },
   "file_extension": ".py",
   "mimetype": "text/x-python",
   "name": "python",
   "nbconvert_exporter": "python",
   "pygments_lexer": "ipython3",
   "version": "3.12.0"
  }
 },
 "nbformat": 4,
 "nbformat_minor": 2
}
