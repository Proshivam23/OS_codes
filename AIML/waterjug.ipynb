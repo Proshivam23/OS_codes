{
 "cells": [
  {
   "cell_type": "code",
   "execution_count": 1,
   "metadata": {},
   "outputs": [
    {
     "name": "stdout",
     "output_type": "stream",
     "text": [
      "[(0, 0), (4, 0), (4, 3), (0, 3), (3, 0), (3, 3), (4, 2), (0, 2), (2, 0)]\n",
      "[(0, 0), (4, 0), (1, 3), (1, 0), (0, 1), (4, 1), (2, 3)]\n"
     ]
    }
   ],
   "source": [
    "def Jug(curr, path, all_paths, vis):\n",
    "    L, R = curr\n",
    "    if L == 2:\n",
    "        all_paths.append(path.copy())\n",
    "        return\n",
    "\n",
    "    succ = [(4, R), (L, 3), (0, R), (L, 0)]\n",
    "    # pour second Jug into First\n",
    "    sp_l = 4 - L\n",
    "    if sp_l >= R:\n",
    "        succ.append((L + R, 0))\n",
    "    else:\n",
    "        succ.append((4, R - sp_l))\n",
    "    # pour into the second jug\n",
    "    sp_r = 3 - R\n",
    "    if sp_r >= L:\n",
    "        succ.append((0, L + R))\n",
    "    else:\n",
    "        succ.append((L - sp_r, 3))\n",
    "    \n",
    "    for s in succ:\n",
    "        if s not in vis:\n",
    "            path.append(s)\n",
    "            vis.add(s)\n",
    "            Jug(s, path, all_paths, vis)\n",
    "            path.pop()\n",
    "\n",
    "# Initialize variables\n",
    "vis = set()\n",
    "all_paths = []\n",
    "\n",
    "# Start the DFS\n",
    "Jug((0, 0), [(0, 0)], all_paths, vis)\n",
    "\n",
    "# Display all paths\n",
    "for path in all_paths:\n",
    "    print(path)\n"
   ]
  },
  {
   "cell_type": "markdown",
   "metadata": {},
   "source": [
    "This Python script uses a Depth-First Search (DFS) algorithm to solve the Water Jug problem. The problem involves a 4-gallon jug and a 3-gallon jug. The goal is to measure exactly 2 gallons using these jugs.\n",
    "\n",
    "The function `Jug` is the main DFS function. It takes four arguments: `curr` (the current state of the jugs), `path` (the path taken to reach the current state), `all_paths` (a list of all paths), and `vis` (a set of visited states).\n",
    "\n",
    "The function first checks if the left jug (`L`) contains 2 gallons. If it does, the current path is appended to `all_paths` and the function returns.\n",
    "\n",
    "Next, the function generates the possible successor states (`succ`) of the current state. These include filling the left jug, filling the right jug, emptying the left jug, emptying the right jug, pouring from the right jug into the left jug until the left jug is full or the right jug is empty, and pouring from the left jug into the right jug until the right jug is full or the left jug is empty.\n",
    "\n",
    "The function then iterates over the successor states. If a state has not been visited, it is added to the path and the visited set, and `Jug` is recursively called on it. After the recursive call, the state is removed from the path (this is the backtracking step).\n",
    "\n",
    "The script then initializes the visited set and the list of all paths, and starts the DFS by calling `Jug` with the initial state (both jugs empty). Finally, it prints all the paths that lead to a state where the left jug contains 2 gallons."
   ]
  }
 ],
 "metadata": {
  "kernelspec": {
   "display_name": "Python 3",
   "language": "python",
   "name": "python3"
  },
  "language_info": {
   "codemirror_mode": {
    "name": "ipython",
    "version": 3
   },
   "file_extension": ".py",
   "mimetype": "text/x-python",
   "name": "python",
   "nbconvert_exporter": "python",
   "pygments_lexer": "ipython3",
   "version": "3.12.0"
  }
 },
 "nbformat": 4,
 "nbformat_minor": 2
}
