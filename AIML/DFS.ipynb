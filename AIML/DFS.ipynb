{
 "cells": [
  {
   "cell_type": "code",
   "execution_count": 1,
   "metadata": {},
   "outputs": [
    {
     "name": "stdout",
     "output_type": "stream",
     "text": [
      "['A', 'B', 'E', 'H', 'F', 'C', 'G', 'I', 'K']\n"
     ]
    }
   ],
   "source": [
    "def dfs(adj, src, des):\n",
    "    vis = set()\n",
    "    par = {}\n",
    "\n",
    "    def _dfs(node):\n",
    "        vis.add(node)\n",
    "        for adjNode in adj[node]:\n",
    "            if adjNode not in vis:\n",
    "                par[adjNode] = node\n",
    "                _dfs(adjNode)\n",
    "\n",
    "    _dfs(src)\n",
    "\n",
    "    path = []\n",
    "    start = des\n",
    "\n",
    "    while start != src:\n",
    "        path.insert(0, start)\n",
    "        start = par[start]\n",
    "    path.insert(0, src)\n",
    "    return path\n",
    "\n",
    "adj = {\n",
    "    \"A\": [\"B\", \"C\", \"D\"],\n",
    "    \"B\": [\"A\", \"E\", \"F\", \"C\"],\n",
    "    \"C\": [\"A\", \"B\", \"F\", \"G\"],\n",
    "    \"D\": [\"A\", \"G\"],\n",
    "    \"E\": [\"B\", \"H\"],\n",
    "    \"F\": [\"B\", \"C\", \"G\", \"H\", \"I\"],\n",
    "    \"G\": [\"C\", \"F\", \"D\", \"I\"],\n",
    "    \"H\": [\"E\", \"F\", \"K\", \"J\"],\n",
    "    \"I\": [\"F\", \"G\", \"H\", \"K\"],\n",
    "    \"J\": [\"H\"],\n",
    "    \"K\": [\"H\", \"I\"]\n",
    "}\n",
    "\n",
    "src = \"A\"\n",
    "des = \"K\"\n",
    "path = dfs(adj, src, des)\n",
    "print(path)"
   ]
  },
  {
   "cell_type": "markdown",
   "metadata": {},
   "source": [
    "This Python script implements the Depth-First Search (DFS) algorithm to find a path between two nodes in a graph. DFS is a graph traversal algorithm that explores as far as possible along each branch before backtracking.\n",
    "\n",
    "The script defines a function `dfs` that takes an adjacency list `adj`, a source node `src`, and a destination node `des` as arguments. Inside this function, a set `vis` (for visited nodes) and a dictionary `par` (for parent nodes) are initialized.\n",
    "\n",
    "The function `dfs` also defines a nested function `_dfs` that takes a node as an argument. This function adds the node to the visited set, then iterates over the node's adjacent nodes. If an adjacent node has not been visited, it is marked as visited, its parent is set as the current node, and `_dfs` is recursively called on it.\n",
    "\n",
    "After defining `_dfs`, the function `dfs` calls `_dfs` on the source node. It then constructs the path from the source to the destination by starting at the destination and following the parent nodes until it reaches the source. The path is returned as a list of nodes.\n",
    "\n",
    "The script then defines an adjacency list for a graph, where each key-value pair represents a node and its adjacent nodes, respectively. It sets \"A\" as the source node and \"K\" as the destination node, and calls the `dfs` function with these values. The returned path is printed to the console.\n",
    "\n",
    "It's important to note that DFS does not guarantee the shortest path between two nodes. It simply finds a path by exploring as far as possible along each branch before backtracking. If you need to find the shortest path, algorithms like Breadth-First Search (BFS) or Dijkstra's algorithm would be more appropriate."
   ]
  }
 ],
 "metadata": {
  "kernelspec": {
   "display_name": "Python 3",
   "language": "python",
   "name": "python3"
  },
  "language_info": {
   "codemirror_mode": {
    "name": "ipython",
    "version": 3
   },
   "file_extension": ".py",
   "mimetype": "text/x-python",
   "name": "python",
   "nbconvert_exporter": "python",
   "pygments_lexer": "ipython3",
   "version": "3.12.0"
  }
 },
 "nbformat": 4,
 "nbformat_minor": 2
}
