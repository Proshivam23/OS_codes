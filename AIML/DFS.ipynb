{
 "cells": [
  {
   "cell_type": "code",
   "execution_count": 1,
   "metadata": {},
   "outputs": [
    {
     "name": "stdout",
     "output_type": "stream",
     "text": [
      "['A', 'B', 'E', 'H', 'F', 'C', 'G', 'I', 'K']\n"
     ]
    }
   ],
   "source": [
    "def dfs(adj, src, des):\n",
    "    vis = set()\n",
    "    par = {}\n",
    "\n",
    "    def _dfs(node):\n",
    "        vis.add(node)\n",
    "        for adjNode in adj[node]:\n",
    "            if adjNode not in vis:\n",
    "                par[adjNode] = node\n",
    "                _dfs(adjNode)\n",
    "\n",
    "    _dfs(src)\n",
    "\n",
    "    path = []\n",
    "    start = des\n",
    "\n",
    "    while start != src:\n",
    "        path.insert(0, start)\n",
    "        start = par[start]\n",
    "    path.insert(0, src)\n",
    "    return path\n",
    "\n",
    "adj = {\n",
    "    \"A\": [\"B\", \"C\", \"D\"],\n",
    "    \"B\": [\"A\", \"E\", \"F\", \"C\"],\n",
    "    \"C\": [\"A\", \"B\", \"F\", \"G\"],\n",
    "    \"D\": [\"A\", \"G\"],\n",
    "    \"E\": [\"B\", \"H\"],\n",
    "    \"F\": [\"B\", \"C\", \"G\", \"H\", \"I\"],\n",
    "    \"G\": [\"C\", \"F\", \"D\", \"I\"],\n",
    "    \"H\": [\"E\", \"F\", \"K\", \"J\"],\n",
    "    \"I\": [\"F\", \"G\", \"H\", \"K\"],\n",
    "    \"J\": [\"H\"],\n",
    "    \"K\": [\"H\", \"I\"]\n",
    "}\n",
    "\n",
    "src = \"A\"\n",
    "des = \"K\"\n",
    "path = dfs(adj, src, des)\n",
    "print(path)"
   ]
  }
 ],
 "metadata": {
  "kernelspec": {
   "display_name": "Python 3",
   "language": "python",
   "name": "python3"
  },
  "language_info": {
   "codemirror_mode": {
    "name": "ipython",
    "version": 3
   },
   "file_extension": ".py",
   "mimetype": "text/x-python",
   "name": "python",
   "nbconvert_exporter": "python",
   "pygments_lexer": "ipython3",
   "version": "3.12.0"
  }
 },
 "nbformat": 4,
 "nbformat_minor": 2
}
